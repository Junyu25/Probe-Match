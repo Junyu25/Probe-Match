{
 "cells": [
  {
   "cell_type": "markdown",
   "metadata": {},
   "source": [
    "## Probe Match"
   ]
  },
  {
   "cell_type": "code",
   "execution_count": 1,
   "metadata": {},
   "outputs": [
    {
     "data": {
      "text/plain": [
       "'/home/junyuchen/Lab/Probe-Match'"
      ]
     },
     "execution_count": 1,
     "metadata": {},
     "output_type": "execute_result"
    }
   ],
   "source": [
    "%pwd"
   ]
  },
  {
   "cell_type": "markdown",
   "metadata": {},
   "source": [
    "### Prokka - Contigs annotation"
   ]
  },
  {
   "cell_type": "code",
   "execution_count": null,
   "metadata": {},
   "outputs": [],
   "source": [
    "prokka --outdir mydir --prefix mygenome contigs.fa"
   ]
  },
  {
   "cell_type": "code",
   "execution_count": null,
   "metadata": {},
   "outputs": [],
   "source": [
    "prokka --outdir Root11 --prefix Root11 Root11.fna"
   ]
  },
  {
   "cell_type": "markdown",
   "metadata": {},
   "source": [
    "```shell\n",
    "for fasta in `ls | grep .fna`\n",
    "do\n",
    "    prokka --outdir /home/junyuchen/Lab/Probe-Match/Root-WGS-Annotated/${fasta:0:-4} --prefix ${fasta:0:-4} $fasta\n",
    "done\n",
    "```"
   ]
  },
  {
   "cell_type": "markdown",
   "metadata": {},
   "source": [
    "Parising GFF file"
   ]
  },
  {
   "cell_type": "markdown",
   "metadata": {},
   "source": [
    "### Extract rRNA"
   ]
  },
  {
   "cell_type": "markdown",
   "metadata": {},
   "source": [
    "#### bcbio-gff\n",
    "`conda install -c bioconda bcbio-gff`"
   ]
  },
  {
   "cell_type": "code",
   "execution_count": 1,
   "metadata": {},
   "outputs": [],
   "source": [
    "from BCBio import GFF"
   ]
  },
  {
   "cell_type": "code",
   "execution_count": 2,
   "metadata": {},
   "outputs": [
    {
     "data": {
      "text/plain": [
       "'/home/junyuchen/Lab/Probe-Match'"
      ]
     },
     "execution_count": 2,
     "metadata": {},
     "output_type": "execute_result"
    }
   ],
   "source": [
    "%pwd"
   ]
  },
  {
   "cell_type": "markdown",
   "metadata": {},
   "source": [
    "```python\n",
    "from BCBio import GFF\n",
    "\n",
    "in_file = \"your_file.gff\"\n",
    "\n",
    "limit_info = dict(\n",
    "        gff_id = [\"chr1\"],\n",
    "        gff_source = [\"Coding_transcript\"])\n",
    "\n",
    "in_handle = open(in_file)\n",
    "for rec in GFF.parse(in_handle, limit_info=limit_info):\n",
    "    print rec.features[0]\n",
    "in_handle.close()\n",
    "```"
   ]
  },
  {
   "cell_type": "markdown",
   "metadata": {},
   "source": [
    "`product=23S ribosomal RNA`   \n",
    "`product=16S ribosomal RNA`"
   ]
  },
  {
   "cell_type": "code",
   "execution_count": null,
   "metadata": {},
   "outputs": [],
   "source": [
    "#in_file = \"/home/junyuchen/Lab/Probe-Match/Root-WGS/Root11/Root11.gff\"\n",
    "in_file = \"/mnt/d/Lab/Probe-Match/demo/data/Root11.gff\"\n",
    "\n",
    "limit_info = dict(gff_type = [\"rRNA\"])\n",
    "        \n",
    "\n",
    "in_handle = open(in_file)\n",
    "for record in GFF.parse(in_handle, limit_info=limit_info):\n",
    "    #print(type(rec.features))\n",
    "    #print(rec.features[0].qualifiers[\"product\"])\n",
    "    #print(rec.id)\n",
    "    #print(rec.features[0])\n",
    "    print(\"ID = %s, length %i, with %i features\"\n",
    "          % ( record.id, len(record.seq), len(record.features)))\n",
    "    print (record.features)\n",
    "    \n",
    "in_handle.close()"
   ]
  },
  {
   "cell_type": "code",
   "execution_count": null,
   "metadata": {},
   "outputs": [],
   "source": [
    "python /mnt/d/Lab/Probe-Match/Scripts/Extract-rRNA.py -i /mnt/d/Lab/Probe-Match/demo/data -o /mnt/d/Lab/Probe-Match/demo/result"
   ]
  },
  {
   "cell_type": "code",
   "execution_count": null,
   "metadata": {},
   "outputs": [],
   "source": []
  }
 ],
 "metadata": {
  "kernelspec": {
   "display_name": "Python 3",
   "language": "python",
   "name": "python3"
  },
  "language_info": {
   "codemirror_mode": {
    "name": "ipython",
    "version": 3
   },
   "file_extension": ".py",
   "mimetype": "text/x-python",
   "name": "python",
   "nbconvert_exporter": "python",
   "pygments_lexer": "ipython3",
   "version": "3.8.5"
  },
  "toc": {
   "base_numbering": 1,
   "nav_menu": {},
   "number_sections": true,
   "sideBar": true,
   "skip_h1_title": false,
   "title_cell": "Table of Contents",
   "title_sidebar": "Contents",
   "toc_cell": false,
   "toc_position": {},
   "toc_section_display": true,
   "toc_window_display": false
  }
 },
 "nbformat": 4,
 "nbformat_minor": 4
}
