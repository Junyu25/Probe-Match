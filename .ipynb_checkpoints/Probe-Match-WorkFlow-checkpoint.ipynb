{
 "cells": [
  {
   "cell_type": "markdown",
   "metadata": {},
   "source": [
    "# Probe Match"
   ]
  },
  {
   "cell_type": "markdown",
   "metadata": {},
   "source": [
    "## Prokka - Contigs annotation"
   ]
  },
  {
   "cell_type": "markdown",
   "metadata": {},
   "source": [
    "https://github.com/tseemann/prokka"
   ]
  },
  {
   "cell_type": "markdown",
   "metadata": {},
   "source": [
    "#### Basic usage:"
   ]
  },
  {
   "cell_type": "markdown",
   "metadata": {},
   "source": [
    "`prokka --outdir mydir --prefix mygenome contigs.fa`"
   ]
  },
  {
   "cell_type": "markdown",
   "metadata": {},
   "source": [
    "`prokka --outdir Root11 --prefix Root11 Root11.fna`"
   ]
  },
  {
   "cell_type": "markdown",
   "metadata": {},
   "source": [
    "```shell\n",
    "for fasta in `ls | grep .fna`\n",
    "do\n",
    "    prokka --outdir /home/junyuchen/Lab/Probe-Match/Root-WGS-Annotated/${fasta:0:-4} --prefix ${fasta:0:-4} $fasta\n",
    "done\n",
    "```"
   ]
  },
  {
   "cell_type": "code",
   "execution_count": 9,
   "metadata": {},
   "outputs": [
    {
     "name": "stdout",
     "output_type": "stream",
     "text": [
      "usage: RunProkkaDir.py [-h] -i FILEDIR -o OPDIR [-j JOBS] [-t THREADS]\n",
      "\n",
      "Run Prokka in Dir\n",
      "\n",
      "optional arguments:\n",
      "  -h, --help            show this help message and exit\n",
      "  -i FILEDIR, --input FILEDIR\n",
      "                        the path of the reads\n",
      "  -o OPDIR, --output OPDIR\n",
      "                        the output path of reads\n",
      "  -j JOBS, --jobs JOBS  the number of jobs run in parallel\n",
      "  -t THREADS, --threads THREADS\n",
      "                        the number of threads run for a job\n"
     ]
    }
   ],
   "source": [
    "!python ./Scripts/RunProkkaDir.py -h"
   ]
  },
  {
   "cell_type": "markdown",
   "metadata": {},
   "source": [
    "## Extract rRNA"
   ]
  },
  {
   "cell_type": "markdown",
   "metadata": {},
   "source": [
    "#### bcbio-gff\n",
    "https://biopython.org/wiki/GFF_Parsing   \n",
    "`conda install -c bioconda bcbio-gff` #Bug"
   ]
  },
  {
   "cell_type": "code",
   "execution_count": null,
   "metadata": {},
   "outputs": [],
   "source": [
    "pip install bcbio-gff"
   ]
  },
  {
   "cell_type": "markdown",
   "metadata": {},
   "source": [
    "```shell\n",
    "python /home/junyuchen/Lab/Probe-Match/Probe-Match/Scripts/Extract-rRNA.py -i /home/junyuchen/Lab/Probe-Match/Probe-Match/demo/data -o /home/junyuchen/Lab/Probe-Match/Probe-Match/demo/result\n",
    "```"
   ]
  },
  {
   "cell_type": "markdown",
   "metadata": {},
   "source": [
    "## Probe Match"
   ]
  },
  {
   "cell_type": "code",
   "execution_count": 10,
   "metadata": {},
   "outputs": [
    {
     "name": "stdout",
     "output_type": "stream",
     "text": [
      "usage: ProbeMatch.py [-h] -p PROBE -s SEQFILE [-um MISMATCHNUM]\n",
      "\n",
      "optional arguments:\n",
      "  -h, --help            show this help message and exit\n",
      "  -p PROBE, --probe PROBE\n",
      "                        the probe file needed for match-test\n",
      "  -s SEQFILE, --seqfile SEQFILE\n",
      "                        the file *.txt containing the name of seq\n",
      "  -um MISMATCHNUM, --misMatchNum MISMATCHNUM\n",
      "                        the mismatch number between probe and seq, smaller or\n",
      "                        equal to the setting will be output\n"
     ]
    }
   ],
   "source": [
    "!python ./Scripts/ProbeMatch.py -h"
   ]
  }
 ],
 "metadata": {
  "kernelspec": {
   "display_name": "Python 3",
   "language": "python",
   "name": "python3"
  },
  "language_info": {
   "codemirror_mode": {
    "name": "ipython",
    "version": 3
   },
   "file_extension": ".py",
   "mimetype": "text/x-python",
   "name": "python",
   "nbconvert_exporter": "python",
   "pygments_lexer": "ipython3",
   "version": "3.8.5"
  },
  "toc": {
   "base_numbering": 1,
   "nav_menu": {},
   "number_sections": true,
   "sideBar": true,
   "skip_h1_title": false,
   "title_cell": "Table of Contents",
   "title_sidebar": "Contents",
   "toc_cell": false,
   "toc_position": {},
   "toc_section_display": true,
   "toc_window_display": false
  }
 },
 "nbformat": 4,
 "nbformat_minor": 4
}
