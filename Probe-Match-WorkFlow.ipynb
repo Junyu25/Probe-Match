{
 "cells": [
  {
   "cell_type": "markdown",
   "metadata": {},
   "source": [
    "## Probe Match"
   ]
  },
  {
   "cell_type": "code",
   "execution_count": 1,
   "metadata": {},
   "outputs": [
    {
     "data": {
      "text/plain": [
       "'/home/junyuchen/Lab/Probe-Match'"
      ]
     },
     "execution_count": 1,
     "metadata": {},
     "output_type": "execute_result"
    }
   ],
   "source": [
    "%pwd"
   ]
  },
  {
   "cell_type": "markdown",
   "metadata": {},
   "source": [
    "### Prokka - Contigs annotation"
   ]
  },
  {
   "cell_type": "code",
   "execution_count": null,
   "metadata": {},
   "outputs": [],
   "source": [
    "prokka --outdir mydir --prefix mygenome contigs.fa"
   ]
  },
  {
   "cell_type": "code",
   "execution_count": null,
   "metadata": {},
   "outputs": [],
   "source": [
    "prokka --outdir Root11 --prefix Root11 Root11.fna"
   ]
  },
  {
   "cell_type": "markdown",
   "metadata": {},
   "source": [
    "```shell\n",
    "for fasta in `ls | grep .fna`\n",
    "do\n",
    "    prokka --outdir /home/junyuchen/Lab/Probe-Match/Root-WGS-Annotated/${fasta:0:-4} --prefix ${fasta:0:-4} $fasta\n",
    "done\n",
    "```"
   ]
  },
  {
   "cell_type": "markdown",
   "metadata": {},
   "source": [
    "Parising GFF file"
   ]
  },
  {
   "cell_type": "markdown",
   "metadata": {},
   "source": [
    "### Extract rRNA"
   ]
  },
  {
   "cell_type": "markdown",
   "metadata": {},
   "source": [
    "#### bcbio-gff\n",
    "`conda install -c bioconda bcbio-gff`"
   ]
  },
  {
   "cell_type": "code",
   "execution_count": 1,
   "metadata": {},
   "outputs": [],
   "source": [
    "from BCBio import GFF"
   ]
  },
  {
   "cell_type": "code",
   "execution_count": null,
   "metadata": {},
   "outputs": [],
   "source": [
    "pip install bcbio-gff"
   ]
  },
  {
   "cell_type": "code",
   "execution_count": 2,
   "metadata": {},
   "outputs": [
    {
     "data": {
      "text/plain": [
       "'/home/junyuchen/Lab/Probe-Match'"
      ]
     },
     "execution_count": 2,
     "metadata": {},
     "output_type": "execute_result"
    }
   ],
   "source": [
    "%pwd"
   ]
  },
  {
   "cell_type": "markdown",
   "metadata": {},
   "source": [
    "```python\n",
    "from BCBio import GFF\n",
    "\n",
    "in_file = \"your_file.gff\"\n",
    "\n",
    "limit_info = dict(\n",
    "        gff_id = [\"chr1\"],\n",
    "        gff_source = [\"Coding_transcript\"])\n",
    "\n",
    "in_handle = open(in_file)\n",
    "for rec in GFF.parse(in_handle, limit_info=limit_info):\n",
    "    print rec.features[0]\n",
    "in_handle.close()\n",
    "```"
   ]
  },
  {
   "cell_type": "markdown",
   "metadata": {},
   "source": [
    "`product=23S ribosomal RNA`   \n",
    "`product=16S ribosomal RNA`"
   ]
  },
  {
   "cell_type": "code",
   "execution_count": 2,
   "metadata": {},
   "outputs": [],
   "source": [
    "from BCBio import GFF"
   ]
  },
  {
   "cell_type": "code",
   "execution_count": 3,
   "metadata": {},
   "outputs": [],
   "source": [
    "from Bio import SeqIO\n",
    "from Bio.Seq import Seq\n",
    "from Bio.SeqRecord import SeqRecord\n",
    "from Bio.SeqFeature import SeqFeature, FeatureLocation"
   ]
  },
  {
   "cell_type": "code",
   "execution_count": 4,
   "metadata": {},
   "outputs": [],
   "source": [
    "in_file = \"./demo/data/Root123D2.gff\""
   ]
  },
  {
   "cell_type": "code",
   "execution_count": 5,
   "metadata": {},
   "outputs": [
    {
     "name": "stdout",
     "output_type": "stream",
     "text": [
      "{'gff_id': {('contig_1',): 1896,\n",
      "            ('contig_2',): 1211,\n",
      "            ('contig_3',): 896,\n",
      "            ('contig_4',): 371,\n",
      "            ('contig_5',): 222,\n",
      "            ('contig_6',): 53,\n",
      "            ('contig_7',): 5,\n",
      "            ('contig_8',): 4},\n",
      " 'gff_source': {('Aragorn:1.2',): 55,\n",
      "                ('Prodigal:2.6',): 4600,\n",
      "                ('barrnap:0.9',): 3},\n",
      " 'gff_source_type': {('Aragorn:1.2', 'tRNA'): 54,\n",
      "                     ('Aragorn:1.2', 'tmRNA'): 1,\n",
      "                     ('Prodigal:2.6', 'CDS'): 4600,\n",
      "                     ('barrnap:0.9', 'rRNA'): 3},\n",
      " 'gff_type': {('CDS',): 4600, ('rRNA',): 3, ('tRNA',): 54, ('tmRNA',): 1}}\n"
     ]
    }
   ],
   "source": [
    "import pprint\n",
    "from BCBio.GFF import GFFExaminer\n",
    "\n",
    "#in_file = \"your_file.gff\"\n",
    "examiner = GFFExaminer()\n",
    "in_handle = open(in_file)\n",
    "pprint.pprint(examiner.available_limits(in_handle))\n",
    "in_handle.close()"
   ]
  },
  {
   "cell_type": "markdown",
   "metadata": {},
   "source": [
    "```shell\n",
    "in_handle = open(in_file)\n",
    "for rec in GFF.parse(in_handle):\n",
    "    print(rec)\n",
    "in_handle.close()\n",
    "```"
   ]
  },
  {
   "cell_type": "code",
   "execution_count": 9,
   "metadata": {},
   "outputs": [
    {
     "name": "stdout",
     "output_type": "stream",
     "text": [
      "ID = contig_1, length 1914680, with 0 features\n",
      "[]\n",
      "ID = contig_2, length 1264344, with 0 features\n",
      "[]\n",
      "ID = contig_3, length 926414, with 3 features\n",
      "[SeqFeature(FeatureLocation(ExactPosition(67862), ExactPosition(67971), strand=-1), type='rRNA', id='MOFEJJPE_03177'), SeqFeature(FeatureLocation(ExactPosition(68060), ExactPosition(70869), strand=-1), type='rRNA', id='MOFEJJPE_03178'), SeqFeature(FeatureLocation(ExactPosition(71675), ExactPosition(73160), strand=-1), type='rRNA', id='MOFEJJPE_03181')]\n",
      "ID = contig_4, length 409661, with 0 features\n",
      "[]\n",
      "ID = contig_5, length 209741, with 0 features\n",
      "[]\n",
      "ID = contig_6, length 59929, with 0 features\n",
      "[]\n",
      "ID = contig_7, length 14163, with 0 features\n",
      "[]\n",
      "ID = contig_8, length 5484, with 0 features\n",
      "[]\n"
     ]
    }
   ],
   "source": [
    "#in_file = \"/home/junyuchen/Lab/Probe-Match/Root-WGS/Root11/Root11.gff\"\n",
    "limit_info = dict(gff_type = [\"rRNA\"], gff_source = [\"barrnap:0.9\"])\n",
    "in_handle = open(in_file)\n",
    "for record in GFF.parse(in_handle, limit_info=limit_info):\n",
    "    #print(type(rec.features))\n",
    "    #print(rec.features[0].qualifiers[\"product\"])\n",
    "    #print(rec.id)\n",
    "    #print(rec.features[0])\n",
    "    print(\"ID = %s, length %i, with %i features\"\n",
    "          % ( record.id, len(record.seq), len(record.features)))\n",
    "    print (record.features)\n",
    "    \n",
    "in_handle.close()"
   ]
  },
  {
   "cell_type": "code",
   "execution_count": 15,
   "metadata": {},
   "outputs": [],
   "source": [
    "import os"
   ]
  },
  {
   "cell_type": "code",
   "execution_count": 19,
   "metadata": {},
   "outputs": [],
   "source": [
    "ouputDir = \"/home/junyuchen/Lab/Probe-Match/Probe-Match/demo/result\""
   ]
  },
  {
   "cell_type": "code",
   "execution_count": 26,
   "metadata": {},
   "outputs": [],
   "source": [
    "limit_info = dict(gff_type = [\"rRNA\"])\n",
    "        \n",
    "def FindrRNA(path, tempFile):\n",
    "    \n",
    "    in_handle = open(path)\n",
    "    for record in GFF.parse(in_handle, limit_info=limit_info):\n",
    "        if len(record.features) != 0:\n",
    "            for i in range(len(record.features)):\n",
    "                if '23S ribosomal RNA' in record.features[i].qualifiers[\"product\"][0]:\n",
    "                    seq_23S = SeqRecord(record.features[i].location.extract(record.seq),\\\n",
    "                                    id=tempFile[:-4],\\\n",
    "                                    description=str(record.id +'-'+record.features[i].id+'-'+ record.features[i].qualifiers[\"product\"][0]+'-'+str(len(record.seq))))\n",
    "                    SeqIO.write(seq_23S, os.path.join(ouputDir, tempFile[:-4]+\"_23S_rRNA.fasta\"), \"fasta\")\n",
    "                elif '16S ribosomal RNA' in record.features[i].qualifiers[\"product\"][0]:\n",
    "                    seq_16S = SeqRecord(record.features[i].location.extract(record.seq),\\\n",
    "                                    id=tempFile[:-4],\\\n",
    "                                    description=str(record.id +'-'+record.features[i].id+'-'+ record.features[i].qualifiers[\"product\"][0]+'-'+str(len(record.seq))))\n",
    "                    SeqIO.write(seq_16S, os.path.join(ouputDir, tempFile[:-4]+\"_16S_rRNA.fasta\"), \"fasta\")\n",
    "\n",
    "    in_handle.close()"
   ]
  },
  {
   "cell_type": "code",
   "execution_count": 27,
   "metadata": {},
   "outputs": [],
   "source": [
    "FindrRNA(\"/home/junyuchen/Lab/Probe-Match/Probe-Match/demo/data/Root123D2.gff\", \"Root123D2.gff\")"
   ]
  },
  {
   "cell_type": "code",
   "execution_count": null,
   "metadata": {},
   "outputs": [],
   "source": []
  },
  {
   "cell_type": "code",
   "execution_count": null,
   "metadata": {},
   "outputs": [],
   "source": [
    "python /home/junyuchen/Lab/Probe-Match/Probe-Match/Scripts/Extract-rRNA.py -i /home/junyuchen/Lab/Probe-Match/Probe-Match/demo/data -o /home/junyuchen/Lab/Probe-Match/Probe-Match/demo/result"
   ]
  },
  {
   "cell_type": "code",
   "execution_count": null,
   "metadata": {},
   "outputs": [],
   "source": []
  }
 ],
 "metadata": {
  "kernelspec": {
   "display_name": "Python 3",
   "language": "python",
   "name": "python3"
  },
  "language_info": {
   "codemirror_mode": {
    "name": "ipython",
    "version": 3
   },
   "file_extension": ".py",
   "mimetype": "text/x-python",
   "name": "python",
   "nbconvert_exporter": "python",
   "pygments_lexer": "ipython3",
   "version": "3.7.6"
  },
  "toc": {
   "base_numbering": 1,
   "nav_menu": {},
   "number_sections": true,
   "sideBar": true,
   "skip_h1_title": false,
   "title_cell": "Table of Contents",
   "title_sidebar": "Contents",
   "toc_cell": false,
   "toc_position": {},
   "toc_section_display": true,
   "toc_window_display": false
  }
 },
 "nbformat": 4,
 "nbformat_minor": 4
}
