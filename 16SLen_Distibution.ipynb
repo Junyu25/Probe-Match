{
 "cells": [
  {
   "cell_type": "markdown",
   "metadata": {},
   "source": [
    "## Len Distibution"
   ]
  },
  {
   "cell_type": "code",
   "execution_count": 5,
   "metadata": {},
   "outputs": [],
   "source": [
    "from Bio import SeqIO\n",
    "import matplotlib.pyplot as plt \n",
    "\n",
    "len_ssu = []\n",
    "len_lsu = []\n",
    "\n",
    "for ssu in SeqIO.parse(\"./Root-rRNA3/Root-59-16S.fasta\", \"fasta\"):\n",
    "    len_ssu.append(len(ssu.seq))\n",
    "\n",
    "for lsu in SeqIO.parse(\"./Root-rRNA3/Root-59-23S.fasta\", \"fasta\"):\n",
    "    len_lsu.append(len(lsu.seq))\n",
    "    \n",
    "    "
   ]
  },
  {
   "cell_type": "code",
   "execution_count": 17,
   "metadata": {},
   "outputs": [
    {
     "data": {
      "image/png": "[encoded data removed]",
      "text/plain": [
       "<Figure size 432x288 with 1 Axes>"
      ]
     },
     "metadata": {
      "needs_background": "light"
     },
     "output_type": "display_data"
    },
    {
     "data": {
      "text/plain": [
       "<Figure size 432x288 with 0 Axes>"
      ]
     },
     "metadata": {},
     "output_type": "display_data"
    }
   ],
   "source": [
    "plt.xlabel('Seq. Len.')\n",
    "plt.ylabel('Seq. Num.')\n",
    "plt.hist(len_ssu)\n",
    "plt.title('Histogram of 16S length Distribution')\n",
    "plt.show()\n",
    "plt.savefig(\"16S_length_Distribution.jpg\")"
   ]
  },
  {
   "cell_type": "code",
   "execution_count": 18,
   "metadata": {},
   "outputs": [
    {
     "data": {
      "image/png": "[encoded data removed]",
      "text/plain": [
       "<Figure size 432x288 with 1 Axes>"
      ]
     },
     "metadata": {
      "needs_background": "light"
     },
     "output_type": "display_data"
    },
    {
     "data": {
      "text/plain": [
       "<Figure size 432x288 with 0 Axes>"
      ]
     },
     "metadata": {},
     "output_type": "display_data"
    }
   ],
   "source": [
    "plt.xlabel('Seq. Len.')\n",
    "plt.ylabel('Seq. Num.')\n",
    "plt.hist(len_lsu)\n",
    "plt.title('Histogram of 23S length Distribution')\n",
    "plt.show()\n",
    "plt.savefig(\"1S_length_Distribution.jpg\")"
   ]
  },
  {
   "cell_type": "code",
   "execution_count": 9,
   "metadata": {},
   "outputs": [
    {
     "name": "stdout",
     "output_type": "stream",
     "text": [
      "Root265\n"
     ]
    }
   ],
   "source": [
    "for lsu in SeqIO.parse(\"./Root-rRNA3/Root-59-23S.fasta\", \"fasta\"):\n",
    "    #len_lsu.append(len(lsu.seq))\n",
    "    if len(lsu.seq) < 1500:\n",
    "        print(lsu.id)"
   ]
  },
  {
   "cell_type": "code",
   "execution_count": null,
   "metadata": {},
   "outputs": [],
   "source": []
  }
 ],
 "metadata": {
  "kernelspec": {
   "display_name": "Python 3",
   "language": "python",
   "name": "python3"
  },
  "language_info": {
   "codemirror_mode": {
    "name": "ipython",
    "version": 3
   },
   "file_extension": ".py",
   "mimetype": "text/x-python",
   "name": "python",
   "nbconvert_exporter": "python",
   "pygments_lexer": "ipython3",
   "version": "3.7.3"
  }
 },
 "nbformat": 4,
 "nbformat_minor": 4
}
