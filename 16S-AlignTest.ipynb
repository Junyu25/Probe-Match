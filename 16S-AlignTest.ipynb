{
 "cells": [
  {
   "cell_type": "code",
   "execution_count": 1,
   "metadata": {},
   "outputs": [
    {
     "data": {
      "text/plain": [
       "'/home/junyuchen/Lab/Probe-Match'"
      ]
     },
     "execution_count": 1,
     "metadata": {},
     "output_type": "execute_result"
    }
   ],
   "source": [
    "%pwd"
   ]
  },
  {
   "cell_type": "code",
   "execution_count": 11,
   "metadata": {},
   "outputs": [
    {
     "data": {
      "image/png": "[encoded data removed]",
      "text/plain": [
       "<Figure size 432x288 with 1 Axes>"
      ]
     },
     "metadata": {
      "needs_background": "light"
     },
     "output_type": "display_data"
    }
   ],
   "source": [
    "from Bio import SeqIO\n",
    "from Bio import Align\n",
    "##Using Pairwise\n",
    "aligner = Align.PairwiseAligner()\n",
    "aligner.mode = 'local'\n",
    "\n",
    "all_alignments = []\n",
    "all_score = []\n",
    "\n",
    "for ssu in SeqIO.parse(\"Root_All_16S.fasta\", \"fasta\"):\n",
    "    #print(ssu.id)\n",
    "    for seq in SeqIO.parse(\"./Root-rRNA3/Root-59-16S.fasta\", \"fasta\"):\n",
    "        if ssu.id == seq.id:\n",
    "            score = aligner.score(ssu.seq, seq.seq)\n",
    "            all_score.append(score)\n",
    "            #print(seq.id)\n",
    "            #all_alignments.append(len(seq.seq) - len(ssu.seq))\n",
    "            #all_alignments.append(len(seq.seq) - score)\n",
    "            #print(str(len(ssu.seq))+' '+str(len(seq.seq)))\n",
    "            #print('Match: '+str(score))\n",
    "            \n",
    "            #alignments = aligner.align(ssu.seq, seq.seq)\n",
    "            #print(alignments)\n",
    "            #all_alignments.append(alignments)\n",
    "            #for alignment in alignments:\n",
    "                #print(alignment)\n",
    "            \n",
    "#from Bio import AlignIO\n",
    "#print(all_alignments)\n",
    "#AlignIO.write(all_alignments, \"all_alignments.phy\", \"phylip\")     \n",
    "import matplotlib.pyplot as plt \n",
    "plt.xlabel('Seq Len')\n",
    "plt.ylabel('Seq Num.')\n",
    "#plt.hist(all_alignments)\n",
    "#print(score)\n",
    "plt.hist(all_score)\n",
    "plt.title('Histogram of Align(16S v.s. 16S_ori)')\n",
    "plt.show()"
   ]
  },
  {
   "cell_type": "code",
   "execution_count": 34,
   "metadata": {},
   "outputs": [
    {
     "name": "stdout",
     "output_type": "stream",
     "text": [
      "Pairwise sequence aligner with parameters\n",
      "  match_score: 1.000000\n",
      "  mismatch_score: 0.000000\n",
      "  target_open_gap_score: 0.000000\n",
      "  target_extend_gap_score: 0.000000\n",
      "  target_left_open_gap_score: 0.000000\n",
      "  target_left_extend_gap_score: 0.000000\n",
      "  target_right_open_gap_score: 0.000000\n",
      "  target_right_extend_gap_score: 0.000000\n",
      "  query_open_gap_score: 0.000000\n",
      "  query_extend_gap_score: 0.000000\n",
      "  query_left_open_gap_score: 0.000000\n",
      "  query_left_extend_gap_score: 0.000000\n",
      "  query_right_open_gap_score: 0.000000\n",
      "  query_right_extend_gap_score: 0.000000\n",
      "  mode: local\n",
      "\n"
     ]
    }
   ],
   "source": [
    "print(aligner)"
   ]
  },
  {
   "cell_type": "code",
   "execution_count": 35,
   "metadata": {},
   "outputs": [
    {
     "data": {
      "text/plain": [
       "'Smith-Waterman'"
      ]
     },
     "execution_count": 35,
     "metadata": {},
     "output_type": "execute_result"
    }
   ],
   "source": [
    "aligner.algorithm"
   ]
  },
  {
   "cell_type": "code",
   "execution_count": 36,
   "metadata": {},
   "outputs": [
    {
     "data": {
      "text/plain": [
       "1e-06"
      ]
     },
     "execution_count": 36,
     "metadata": {},
     "output_type": "execute_result"
    }
   ],
   "source": [
    "aligner.epsilon"
   ]
  },
  {
   "cell_type": "code",
   "execution_count": 3,
   "metadata": {},
   "outputs": [],
   "source": [
    "from Bio.Seq import Seq\n",
    "\n",
    "seq = Seq('CCATACTCTAGCTCGACAGT')"
   ]
  },
  {
   "cell_type": "code",
   "execution_count": 4,
   "metadata": {},
   "outputs": [
    {
     "data": {
      "text/plain": [
       "Seq('ACTGTCGAGCTAGAGTATGG')"
      ]
     },
     "execution_count": 4,
     "metadata": {},
     "output_type": "execute_result"
    }
   ],
   "source": [
    "seq.reverse_complement()"
   ]
  },
  {
   "cell_type": "code",
   "execution_count": null,
   "metadata": {},
   "outputs": [],
   "source": []
  }
 ],
 "metadata": {
  "kernelspec": {
   "display_name": "Python 3",
   "language": "python",
   "name": "python3"
  },
  "language_info": {
   "codemirror_mode": {
    "name": "ipython",
    "version": 3
   },
   "file_extension": ".py",
   "mimetype": "text/x-python",
   "name": "python",
   "nbconvert_exporter": "python",
   "pygments_lexer": "ipython3",
   "version": "3.7.6"
  }
 },
 "nbformat": 4,
 "nbformat_minor": 4
}
